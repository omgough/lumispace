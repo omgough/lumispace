{
 "cells": [
  {
   "cell_type": "markdown",
   "metadata": {},
   "source": [
    "# Lumi Space Internship: Plotting a TLE <br>\n",
    "## Olivia Marie Gough <br>\n",
    "A TLE, short for two-line element set, encodes a list of orbital elements of a satellite. This set of data can be used to predict a satellites position and velocity using simplified perturbations models. I will be using the libraries numpy and matplotlib  to visualise the data given."
   ]
  },
  {
   "cell_type": "code",
   "execution_count": 42,
   "metadata": {},
   "outputs": [],
   "source": [
    "# 1 25544U 98067A   19091.54921296  .00002326  00000-0  44830-4 0  9994 \n",
    "# 2 25544  51.6429  22.1968 0002430 134.4838 212.9945 15.52470701163348"
   ]
  },
  {
   "cell_type": "code",
   "execution_count": 35,
   "metadata": {},
   "outputs": [],
   "source": [
    "line1= 1\n",
    "satellite_number1 = 25544\n",
    "classification1 = 'U' \n",
    "international_designator_year = 98\n",
    "international_designator_number = 67\n",
    "international_designator_piece = 'A'\n",
    "epoch_year = 19\n",
    "epoch_day = 091.54921296  \n",
    "first_time_deriv = .00002326  \n",
    "#second_time_deriv = 00000-0  \n",
    "BSTAR = 44830-4 \n",
    "zero = 0  \n",
    "element_set = 999\n",
    "checksum1 = 4 \n",
    "\n",
    "\n",
    "line2 = 2 \n",
    "satellite_number2 = 25544\n",
    "inclination = 51.6429  \n",
    "RA = 22.1968 \n",
    "eccentricity = .0002430 \n",
    "argument_perigee = 134.4838 \n",
    "mean_anomaly = 212.9945 \n",
    "mean_motion = 15.52470701\n",
    "rev = 16334\n",
    "checksum2 = 8"
   ]
  },
  {
   "cell_type": "code",
   "execution_count": 40,
   "metadata": {},
   "outputs": [
    {
     "data": {
      "image/png": "[encoded data removed]",
      "text/plain": [
       "<Figure size 288x288 with 1 Axes>"
      ]
     },
     "metadata": {
      "needs_background": "light"
     },
     "output_type": "display_data"
    }
   ],
   "source": [
    "import matplotlib.pyplot as plt\n",
    "import numpy as np\n",
    "from mpl_toolkits.mplot3d import Axes3D\n",
    "#importing the relevant modules needed\n",
    "\n",
    "figure = plt.figure(figsize=plt.figaspect(1))\n",
    "ax = figure.add_subplot(111, projection='3d', aspect = 1)\n",
    "max_radius = 0\n",
    "#plot axes\n",
    "\n",
    "def earth_plot():\n",
    "    earth_radius = 6371\n",
    "    global max_radius\n",
    "    max_radius = max(max_radius,earth_radius)\n",
    "    coeffecients = (100,1,1)\n",
    "    rx, ry, rz = [earth_radius/np.sqrt(coeffecients) for coefs in coeffecients]\n",
    "    p = np.linspace(0, 2*np.pi, 100)\n",
    "    q = np.linspace(0, np.pi, 100)\n",
    "    x = rx * np.outer(np.cos(p),np.sin(q))\n",
    "    y = ry * np.outer(np.sin(p),np.sin(q))\n",
    "    z = rz * np.outer(np.ones_like(p), np.cos(q))\n",
    "    ax.plot_surface(x,y,z, rstride=4, cstride=4)\n",
    "    #this function plots the Earth as a globe\n",
    "    \n",
    "def orbit_plot(semi_major_axis, eccentricity = 0, inclination = 0, RA = 0, argument_perigee = 0, mean_anomaly = 0, label = None):\n",
    "    inc = inclination * np.pi / 180.;\n",
    "    R1 = np.matrix([[1, 0, 0],\n",
    "                  [0, np.cos(inc), -np.sin(inc)],\n",
    "                  [0, np.sin(inc), np.cos(inc)]]) #rotation matrix for inclination\n",
    "    \n",
    "    rot = (RA + argument_perigee) * np.pi/180\n",
    "    R2 = np.matrix([[np.cos(rot), -np.sin(rot), 0],\n",
    "                   [np.sin(rot), np.cos(rot), 0],\n",
    "                   [0, 0, 1]]) #rotation matrix for perigee argument and RA\n",
    "    \n",
    "    theta = np.linspace(0, 2*np.pi, 360)\n",
    "    r = (semi_major_axis*(1-eccentricity**2)) / (1 + eccentricity*np.cos(theta))\n",
    "    \n",
    "    xr = r*np.cos(theta)\n",
    "    yr = r*np.sin(theta)\n",
    "    zr = 0*theta\n",
    "    \n",
    "    pts = np.matrix(zip(xr,yr,zr))\n",
    "    pts = (R1 * R2 * pts.T).T\n",
    "    xr,yr,zr = pts[:,0].A.flatten(), pts[:,1].A.flatten(), pts[:,2].A.flatten()\n",
    "    ax.plot(xr,yr,zr, '-')\n",
    "    \n",
    "    ANGLE = mean_anomaly * np.pi/180\n",
    "    r_satellite = (semi_major_axis*(1-eccentricity**2)) / (1 + eccentricity*np.cos(ANGLE))\n",
    "    x_satellite = r_satellite * np.cos(ANGLE)\n",
    "    y_satellite = r_satellite * np.sin(ANGLE)\n",
    "    z_satellite = 0\n",
    "    \n",
    "    satellite = (R1 * R2 * np.matrix([x_satellite, y_satellite, z_satellite]).T).flatten()\n",
    "    x_satellite = satellite[0,0]\n",
    "    y_satellite = satellite[0,1]\n",
    "    z_satellite = satellite[0,2]\n",
    "    \n",
    "    c = np.sqrt(x_satellite**2 + y_satellite**2)\n",
    "    lat = np.arctan2(z_satellite, c) * 180/np.pi\n",
    "    long =  np.arctan2(y_satellite, x_satellite) * 180/np.pi\n",
    "    \n",
    "    ax.plot([x_satellite],[y_satellite],[z_satellite],'ro')\n",
    "    \n",
    "    global max_radius\n",
    "    max_radius = max(max(r), max_radius)\n",
    "    \n",
    "    \n",
    "    \n",
    "def adjust():\n",
    "    for axis in 'xyz':\n",
    "        getattr(ax, 'set_{}lim'.format(axis))((-max_radius, max_radius))\n",
    "        plt.show()"
   ]
  },
  {
   "cell_type": "code",
   "execution_count": 41,
   "metadata": {},
   "outputs": [
    {
     "ename": "ValueError",
     "evalue": "operands could not be broadcast together with shapes (3,) (100,100) ",
     "output_type": "error",
     "traceback": [
      "\u001b[1;31m---------------------------------------------------------------------------\u001b[0m",
      "\u001b[1;31mValueError\u001b[0m                                Traceback (most recent call last)",
      "\u001b[1;32m<ipython-input-41-d456fdb1a540>\u001b[0m in \u001b[0;36m<module>\u001b[1;34m()\u001b[0m\n\u001b[1;32m----> 1\u001b[1;33m \u001b[0mearth_plot\u001b[0m\u001b[1;33m(\u001b[0m\u001b[1;33m)\u001b[0m\u001b[1;33m\u001b[0m\u001b[0m\n\u001b[0m\u001b[0;32m      2\u001b[0m \u001b[0morbit_plot\u001b[0m\u001b[1;33m(\u001b[0m\u001b[1;33m)\u001b[0m\u001b[1;33m\u001b[0m\u001b[0m\n\u001b[0;32m      3\u001b[0m \u001b[0madjust\u001b[0m\u001b[1;33m(\u001b[0m\u001b[1;33m)\u001b[0m\u001b[1;33m\u001b[0m\u001b[0m\n",
      "\u001b[1;32m<ipython-input-40-7bc9b63aeaa8>\u001b[0m in \u001b[0;36mearth_plot\u001b[1;34m()\u001b[0m\n\u001b[0;32m     17\u001b[0m     \u001b[0mp\u001b[0m \u001b[1;33m=\u001b[0m \u001b[0mnp\u001b[0m\u001b[1;33m.\u001b[0m\u001b[0mlinspace\u001b[0m\u001b[1;33m(\u001b[0m\u001b[1;36m0\u001b[0m\u001b[1;33m,\u001b[0m \u001b[1;36m2\u001b[0m\u001b[1;33m*\u001b[0m\u001b[0mnp\u001b[0m\u001b[1;33m.\u001b[0m\u001b[0mpi\u001b[0m\u001b[1;33m,\u001b[0m \u001b[1;36m100\u001b[0m\u001b[1;33m)\u001b[0m\u001b[1;33m\u001b[0m\u001b[0m\n\u001b[0;32m     18\u001b[0m     \u001b[0mq\u001b[0m \u001b[1;33m=\u001b[0m \u001b[0mnp\u001b[0m\u001b[1;33m.\u001b[0m\u001b[0mlinspace\u001b[0m\u001b[1;33m(\u001b[0m\u001b[1;36m0\u001b[0m\u001b[1;33m,\u001b[0m \u001b[0mnp\u001b[0m\u001b[1;33m.\u001b[0m\u001b[0mpi\u001b[0m\u001b[1;33m,\u001b[0m \u001b[1;36m100\u001b[0m\u001b[1;33m)\u001b[0m\u001b[1;33m\u001b[0m\u001b[0m\n\u001b[1;32m---> 19\u001b[1;33m     \u001b[0mx\u001b[0m \u001b[1;33m=\u001b[0m \u001b[0mrx\u001b[0m \u001b[1;33m*\u001b[0m \u001b[0mnp\u001b[0m\u001b[1;33m.\u001b[0m\u001b[0mouter\u001b[0m\u001b[1;33m(\u001b[0m\u001b[0mnp\u001b[0m\u001b[1;33m.\u001b[0m\u001b[0mcos\u001b[0m\u001b[1;33m(\u001b[0m\u001b[0mp\u001b[0m\u001b[1;33m)\u001b[0m\u001b[1;33m,\u001b[0m\u001b[0mnp\u001b[0m\u001b[1;33m.\u001b[0m\u001b[0msin\u001b[0m\u001b[1;33m(\u001b[0m\u001b[0mq\u001b[0m\u001b[1;33m)\u001b[0m\u001b[1;33m)\u001b[0m\u001b[1;33m\u001b[0m\u001b[0m\n\u001b[0m\u001b[0;32m     20\u001b[0m     \u001b[0my\u001b[0m \u001b[1;33m=\u001b[0m \u001b[0mry\u001b[0m \u001b[1;33m*\u001b[0m \u001b[0mnp\u001b[0m\u001b[1;33m.\u001b[0m\u001b[0mouter\u001b[0m\u001b[1;33m(\u001b[0m\u001b[0mnp\u001b[0m\u001b[1;33m.\u001b[0m\u001b[0msin\u001b[0m\u001b[1;33m(\u001b[0m\u001b[0mp\u001b[0m\u001b[1;33m)\u001b[0m\u001b[1;33m,\u001b[0m\u001b[0mnp\u001b[0m\u001b[1;33m.\u001b[0m\u001b[0msin\u001b[0m\u001b[1;33m(\u001b[0m\u001b[0mq\u001b[0m\u001b[1;33m)\u001b[0m\u001b[1;33m)\u001b[0m\u001b[1;33m\u001b[0m\u001b[0m\n\u001b[0;32m     21\u001b[0m     \u001b[0mz\u001b[0m \u001b[1;33m=\u001b[0m \u001b[0mrz\u001b[0m \u001b[1;33m*\u001b[0m \u001b[0mnp\u001b[0m\u001b[1;33m.\u001b[0m\u001b[0mouter\u001b[0m\u001b[1;33m(\u001b[0m\u001b[0mnp\u001b[0m\u001b[1;33m.\u001b[0m\u001b[0mones_like\u001b[0m\u001b[1;33m(\u001b[0m\u001b[0mp\u001b[0m\u001b[1;33m)\u001b[0m\u001b[1;33m,\u001b[0m \u001b[0mnp\u001b[0m\u001b[1;33m.\u001b[0m\u001b[0mcos\u001b[0m\u001b[1;33m(\u001b[0m\u001b[0mq\u001b[0m\u001b[1;33m)\u001b[0m\u001b[1;33m)\u001b[0m\u001b[1;33m\u001b[0m\u001b[0m\n",
      "\u001b[1;31mValueError\u001b[0m: operands could not be broadcast together with shapes (3,) (100,100) "
     ]
    }
   ],
   "source": [
    "earth_plot()\n",
    "orbit_plot()\n",
    "adjust()"
   ]
  },
  {
   "cell_type": "code",
   "execution_count": null,
   "metadata": {},
   "outputs": [],
   "source": []
  },
  {
   "cell_type": "code",
   "execution_count": null,
   "metadata": {},
   "outputs": [],
   "source": []
  }
 ],
 "metadata": {
  "kernelspec": {
   "display_name": "Python 3",
   "language": "python",
   "name": "python3"
  },
  "language_info": {
   "codemirror_mode": {
    "name": "ipython",
    "version": 3
   },
   "file_extension": ".py",
   "mimetype": "text/x-python",
   "name": "python",
   "nbconvert_exporter": "python",
   "pygments_lexer": "ipython3",
   "version": "3.7.0"
  }
 },
 "nbformat": 4,
 "nbformat_minor": 2
}
